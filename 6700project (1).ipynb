{
  "nbformat": 4,
  "nbformat_minor": 0,
  "metadata": {
    "colab": {
      "provenance": []
    },
    "kernelspec": {
      "name": "python3",
      "display_name": "Python 3"
    },
    "language_info": {
      "name": "python"
    }
  },
  "cells": [
    {
      "cell_type": "markdown",
      "source": [
        "**Using Python to generate random data for project **"
      ],
      "metadata": {
        "id": "MysMzKU9QW7-"
      }
    },
    {
      "cell_type": "code",
      "execution_count": null,
      "metadata": {
        "colab": {
          "base_uri": "https://localhost:8080/"
        },
        "id": "Ch2vE3thp5uQ",
        "outputId": "a2e9a605-6da3-42e9-fd2f-1e2aab1ac450"
      },
      "outputs": [
        {
          "output_type": "stream",
          "name": "stdout",
          "text": [
            "Collecting faker\n",
            "  Downloading faker-37.0.2-py3-none-any.whl.metadata (15 kB)\n",
            "Requirement already satisfied: tzdata in /usr/local/lib/python3.11/dist-packages (from faker) (2025.1)\n",
            "Downloading faker-37.0.2-py3-none-any.whl (1.9 MB)\n",
            "\u001b[2K   \u001b[90m━━━━━━━━━━━━━━━━━━━━━━━━━━━━━━━━━━━━━━━━\u001b[0m \u001b[32m1.9/1.9 MB\u001b[0m \u001b[31m10.5 MB/s\u001b[0m eta \u001b[36m0:00:00\u001b[0m\n",
            "\u001b[?25hInstalling collected packages: faker\n",
            "Successfully installed faker-37.0.2\n"
          ]
        }
      ],
      "source": [
        "import pandas as pd\n",
        "!pip install faker\n",
        "from faker import Faker\n",
        "import random\n",
        "fake = Faker()\n",
        "def generate_phone_number():\n",
        "    return f\"{random.randint(100, 999)}-{random.randint(100, 999)}-{random.randint(1000, 9999)}\""
      ]
    },
    {
      "cell_type": "code",
      "source": [
        "\n",
        "\n",
        "# generate 60 rows of data\n",
        "data =[]\n",
        "agent_counter = 1  # Counter for Agent IDs\n",
        "# Create a list of agent names to choose from\n",
        "agent_names = []\n",
        "\n",
        "for _ in range(50):\n",
        "\n",
        "    background = random.choices([True, False], weights=[80, 20], k=1)[0]  # 80% True, 20% False\n",
        "\n",
        "    # Assign ID only if Background is True, else None\n",
        "    agent_id = f\"Agent{agent_counter:03}\" if background else None\n",
        "    agent_names.append(fake.name())\n",
        "    # Increment counter only if an ID is assigned\n",
        "    if agent_id:\n",
        "        agent_counter += 1\n",
        "\n",
        "    data.append({\n",
        "        \"AgentID\": agent_id,  # Only assigned if Background is True\n",
        "        \"Name\": fake.name(),\n",
        "        \"Phone Number\": generate_phone_number(),\n",
        "        \"DOB\": fake.date_of_birth(minimum_age=18, maximum_age=80).strftime(\"%Y-%m-%d\"),\n",
        "        \"Email\": fake.email(),\n",
        "        \"Background\": background\n",
        "    })\n",
        "\n",
        "# Convert to DataFrame\n",
        "df = pd.DataFrame(data)\n",
        "# Randomly select 5 agents as managers\n",
        "managers = random.sample(agent_names, 5)\n",
        "\n",
        "# Assign manager for each agent\n",
        "df['Manager'] = df['Name'].apply(lambda x: x if x in managers else random.choice(managers))\n",
        "\n",
        "# If the agent is a manager, they will have their own name as the manager\n",
        "df['Manager'] = df.apply(lambda row: row['Name'] if row['Name'] in managers else row['Manager'], axis=1)\n",
        "\n",
        "\n",
        "# Display\n",
        "print(df)\n",
        "\n",
        "# Save to CSV\n",
        "df.to_csv(\"agent_data.csv\", index=False)\n",
        "\n",
        "\n",
        "\n",
        "\n",
        "\n",
        "\n",
        "\n",
        "\n"
      ],
      "metadata": {
        "colab": {
          "base_uri": "https://localhost:8080/"
        },
        "id": "rxyBGycuqLdy",
        "outputId": "a062df82-fb96-4f5d-8533-e42116f924de"
      },
      "execution_count": null,
      "outputs": [
        {
          "output_type": "stream",
          "name": "stdout",
          "text": [
            "     AgentID                Name  Phone Number         DOB  \\\n",
            "0   Agent001          Anna Reyes  418-644-6668  1955-12-27   \n",
            "1   Agent002        Robin Robles  756-875-7885  1951-07-19   \n",
            "2   Agent003         Lisa Rogers  298-621-3594  1991-01-23   \n",
            "3   Agent004        Carol Garcia  784-238-7064  1995-03-03   \n",
            "4   Agent005         Aaron Smith  201-978-1435  1949-04-23   \n",
            "5   Agent006        Sarah Turner  352-265-6229  1948-07-11   \n",
            "6   Agent007          Dave Lewis  586-923-7732  1965-03-17   \n",
            "7   Agent008       David Gardner  449-843-4705  1970-05-25   \n",
            "8       None  Miss Jodi Black MD  936-376-1606  1984-01-12   \n",
            "9   Agent009     Thomas Anderson  615-510-5936  1966-06-12   \n",
            "10  Agent010         Paula Jones  660-468-5619  1948-03-15   \n",
            "11  Agent011        Zachary Mays  310-503-1403  1955-12-19   \n",
            "12  Agent012    Brittney Johnson  389-688-1579  1965-09-03   \n",
            "13  Agent013       Jill Petersen  810-735-1667  1977-05-16   \n",
            "14  Agent014  Elizabeth Mcintyre  914-571-4173  2003-10-21   \n",
            "15  Agent015      Derek Gonzalez  315-201-6274  1973-07-27   \n",
            "16  Agent016     Katherine Perez  193-888-1031  1995-06-02   \n",
            "17  Agent017       Ryan Franklin  537-238-5507  1978-10-13   \n",
            "18  Agent018        Marcus Moore  529-770-7534  1994-12-21   \n",
            "19  Agent019   Stephanie Wheeler  893-430-4413  1968-08-08   \n",
            "20  Agent020     Connie Anderson  820-509-5086  1955-06-08   \n",
            "21  Agent021      William Carter  162-921-7398  1996-05-08   \n",
            "22  Agent022     Patrick Hawkins  430-762-1388  1976-06-20   \n",
            "23  Agent023      Catherine Hall  872-735-1131  1997-10-17   \n",
            "24  Agent024   Stephen Robertson  502-776-2050  1946-06-03   \n",
            "25  Agent025             Sara Le  187-900-4811  2002-08-06   \n",
            "26  Agent026    Richard Phillips  294-457-5897  1986-01-17   \n",
            "27  Agent027        Amber Abbott  649-301-1714  1997-05-29   \n",
            "28  Agent028         Johnny Holt  706-404-4753  1989-02-21   \n",
            "29  Agent029        Tyrone Brown  399-293-8351  1947-07-19   \n",
            "30  Agent030    Mallory Reynolds  353-926-1348  1997-07-02   \n",
            "31  Agent031      Anne Gillespie  772-485-1180  1963-09-03   \n",
            "32  Agent032       James Alvarez  880-568-4731  1967-09-01   \n",
            "33  Agent033       Ricky Ryan MD  274-660-2099  1997-08-22   \n",
            "34  Agent034         Ronald Hunt  943-515-9874  2007-02-07   \n",
            "35      None    Victoria Schultz  465-476-3429  1958-07-05   \n",
            "36      None        Hunter Ramos  713-185-4214  1975-06-02   \n",
            "37      None      Cory Cervantes  908-799-1228  1960-08-18   \n",
            "38  Agent035     Miranda Krueger  377-165-7283  1949-03-16   \n",
            "39  Agent036    Anthony Phillips  233-801-5543  2005-08-12   \n",
            "40  Agent037         Daniel Hill  222-751-5376  2000-06-09   \n",
            "41      None      Kimberly Brown  550-224-6723  2007-01-17   \n",
            "42      None       Casey Higgins  122-250-5407  1981-07-05   \n",
            "43      None        Tyler Watson  631-247-1008  1976-09-19   \n",
            "44  Agent038      Jason Thornton  648-716-7592  2001-06-27   \n",
            "45  Agent039        Ronald Perez  414-681-4205  1954-07-29   \n",
            "46  Agent040        Donna Nelson  724-925-8910  1996-10-09   \n",
            "47  Agent041    Kimberly Watkins  595-645-1912  1962-06-14   \n",
            "48  Agent042      Zachary French  252-859-6126  1985-04-08   \n",
            "49  Agent043     Valerie Osborne  988-830-4501  1978-10-07   \n",
            "\n",
            "                            Email  Background            Manager  \n",
            "0             tammy37@example.org        True     Megan Caldwell  \n",
            "1   fergusonstephanie@example.org        True       James Bishop  \n",
            "2            robert48@example.org        True     Megan Caldwell  \n",
            "3           uanderson@example.com        True  Douglas Hernandez  \n",
            "4      campbelljustin@example.org        True  Douglas Hernandez  \n",
            "5              vlyons@example.com        True      Phillip Reese  \n",
            "6              vallen@example.net        True      Phillip Reese  \n",
            "7        jeffpetersen@example.org        True      Phillip Reese  \n",
            "8             sarah81@example.org       False  Douglas Hernandez  \n",
            "9          adamserika@example.net        True      Phillip Reese  \n",
            "10        alejandro21@example.net        True          Paul Reed  \n",
            "11          dayandrea@example.net        True       James Bishop  \n",
            "12        jozimmerman@example.com        True     Megan Caldwell  \n",
            "13           gmahoney@example.net        True          Paul Reed  \n",
            "14      duncantiffany@example.net        True          Paul Reed  \n",
            "15       richardlopez@example.net        True      Phillip Reese  \n",
            "16            diane46@example.net        True      Phillip Reese  \n",
            "17    williamscynthia@example.net        True     Megan Caldwell  \n",
            "18         moorejesse@example.com        True      Phillip Reese  \n",
            "19         wintersamy@example.org        True     Megan Caldwell  \n",
            "20            gjarvis@example.com        True       James Bishop  \n",
            "21      williamsjason@example.net        True      Phillip Reese  \n",
            "22      lawrencediane@example.net        True          Paul Reed  \n",
            "23       kristopher02@example.com        True      Phillip Reese  \n",
            "24        nancyhunter@example.com        True      Phillip Reese  \n",
            "25      mcintyrescott@example.net        True  Douglas Hernandez  \n",
            "26             ilynch@example.net        True     Megan Caldwell  \n",
            "27         urasmussen@example.org        True          Paul Reed  \n",
            "28           mjohnson@example.com        True      Phillip Reese  \n",
            "29          ethanbell@example.com        True  Douglas Hernandez  \n",
            "30             bsmall@example.org        True       James Bishop  \n",
            "31             zcombs@example.org        True  Douglas Hernandez  \n",
            "32           ekennedy@example.org        True          Paul Reed  \n",
            "33       laurafuentes@example.com        True      Phillip Reese  \n",
            "34         sandraking@example.net        True      Phillip Reese  \n",
            "35              bmann@example.net       False       James Bishop  \n",
            "36               oday@example.net       False      Phillip Reese  \n",
            "37           gstanton@example.com       False       James Bishop  \n",
            "38      hughesmichael@example.org        True      Phillip Reese  \n",
            "39        davidfrench@example.org        True     Megan Caldwell  \n",
            "40         jennifer95@example.org        True     Megan Caldwell  \n",
            "41          kaitlyn38@example.net       False     Megan Caldwell  \n",
            "42      benitezteresa@example.org       False     Megan Caldwell  \n",
            "43    darrenblackwell@example.org       False          Paul Reed  \n",
            "44           joshua18@example.com        True     Megan Caldwell  \n",
            "45           kaguilar@example.org        True  Douglas Hernandez  \n",
            "46     jenkinsdouglas@example.net        True      Phillip Reese  \n",
            "47            corey05@example.net        True          Paul Reed  \n",
            "48            jason07@example.net        True      Phillip Reese  \n",
            "49        evansjustin@example.com        True          Paul Reed  \n"
          ]
        }
      ]
    },
    {
      "cell_type": "code",
      "source": [
        "# team dataset\n",
        "team_data = []\n",
        "\n",
        "for ag_id in df[df[\"Background\"] == True][\"AgentID\"]:\n",
        "    # The following line was not indented correctly and caused the error.\n",
        "    # Indenting it by 4 spaces solves the problem.\n",
        "    Manager_choice = df[df[\"AgentID\"] == ag_id][\"Manager\"].values[0]\n",
        "    team_data.append({\n",
        "        \"AgentID\": ag_id,\n",
        "        \"Manager\": Manager_choice,\n",
        "    })\n",
        "\n",
        "\n",
        "teamdf = pd.DataFrame(team_data)\n",
        "print(teamdf)\n",
        "teamdf.to_csv(\"team_data.csv\", index=False)"
      ],
      "metadata": {
        "colab": {
          "base_uri": "https://localhost:8080/"
        },
        "id": "ielthV1-rYty",
        "outputId": "2299ee8a-85c9-4610-f1ec-bbefee1ee2bb"
      },
      "execution_count": null,
      "outputs": [
        {
          "output_type": "stream",
          "name": "stdout",
          "text": [
            "     AgentID            Manager\n",
            "0   Agent001     Megan Caldwell\n",
            "1   Agent002       James Bishop\n",
            "2   Agent003     Megan Caldwell\n",
            "3   Agent004  Douglas Hernandez\n",
            "4   Agent005  Douglas Hernandez\n",
            "5   Agent006      Phillip Reese\n",
            "6   Agent007      Phillip Reese\n",
            "7   Agent008      Phillip Reese\n",
            "8   Agent009      Phillip Reese\n",
            "9   Agent010          Paul Reed\n",
            "10  Agent011       James Bishop\n",
            "11  Agent012     Megan Caldwell\n",
            "12  Agent013          Paul Reed\n",
            "13  Agent014          Paul Reed\n",
            "14  Agent015      Phillip Reese\n",
            "15  Agent016      Phillip Reese\n",
            "16  Agent017     Megan Caldwell\n",
            "17  Agent018      Phillip Reese\n",
            "18  Agent019     Megan Caldwell\n",
            "19  Agent020       James Bishop\n",
            "20  Agent021      Phillip Reese\n",
            "21  Agent022          Paul Reed\n",
            "22  Agent023      Phillip Reese\n",
            "23  Agent024      Phillip Reese\n",
            "24  Agent025  Douglas Hernandez\n",
            "25  Agent026     Megan Caldwell\n",
            "26  Agent027          Paul Reed\n",
            "27  Agent028      Phillip Reese\n",
            "28  Agent029  Douglas Hernandez\n",
            "29  Agent030       James Bishop\n",
            "30  Agent031  Douglas Hernandez\n",
            "31  Agent032          Paul Reed\n",
            "32  Agent033      Phillip Reese\n",
            "33  Agent034      Phillip Reese\n",
            "34  Agent035      Phillip Reese\n",
            "35  Agent036     Megan Caldwell\n",
            "36  Agent037     Megan Caldwell\n",
            "37  Agent038     Megan Caldwell\n",
            "38  Agent039  Douglas Hernandez\n",
            "39  Agent040      Phillip Reese\n",
            "40  Agent041          Paul Reed\n",
            "41  Agent042      Phillip Reese\n",
            "42  Agent043          Paul Reed\n"
          ]
        }
      ]
    },
    {
      "cell_type": "code",
      "source": [
        "# Employee dataset\n",
        "employee_data = []\n",
        "for i in range(1,5):\n",
        "  employee_data.append({\n",
        "      \"EmployeeID\": f\"Emp{i:03}\",\n",
        "      \"Name\": fake.name(),\n",
        "      \"Phone\": generate_phone_number(),\n",
        "      \"Email\": fake.email()\n",
        "  })\n",
        "employeedf = pd.DataFrame(employee_data)\n",
        "print(employeedf)\n",
        "employeedf.to_csv(\"employee_data.csv\", index=False)\n"
      ],
      "metadata": {
        "colab": {
          "base_uri": "https://localhost:8080/"
        },
        "id": "4_gpeXFIDmL5",
        "outputId": "7719ff80-c3de-45be-9c84-4feac1d98a46"
      },
      "execution_count": null,
      "outputs": [
        {
          "output_type": "stream",
          "name": "stdout",
          "text": [
            "  EmployeeID          Name         Phone                     Email\n",
            "0     Emp001  Erica Briggs  580-664-9626        uoneal@example.com\n",
            "1     Emp002  Jason Bowers  467-715-8176   tracywillis@example.com\n",
            "2     Emp003  Carlos Haney  396-340-8196  robertwilson@example.org\n",
            "3     Emp004  Amanda Perez  256-894-7841       awilson@example.org\n"
          ]
        }
      ]
    },
    {
      "cell_type": "code",
      "source": [
        "# order dataset\n",
        "valid_agents = df[df[\"Background\"] == True][\"AgentID\"].dropna().tolist()\n",
        "valid_employees = employeedf[\"EmployeeID\"].tolist()\n",
        "order_info = [\"TV\",\"High Speed Internet\",\"Phone\"]\n",
        "\n",
        "\n",
        "orderdata=[]\n",
        "for i in range(1,101):\n",
        "  order_choice = random.choice(order_info)  # Randomly choose order info\n",
        "\n",
        "  # Assign orderValue based on orderInfo\n",
        "  if order_choice == \"TV\":\n",
        "    order_value = 50\n",
        "  elif order_choice == \"High Speed Internet\":\n",
        "    order_value = 30\n",
        "  elif order_choice == \"Phone\":\n",
        "    order_value = 20\n",
        "\n",
        "  orderdata.append({\n",
        "      \"OrderID\": f\"Order{i:03}\",\n",
        "      \"AgentID\": random.choice(valid_agents),\n",
        "      \"customerName\": fake.name(),\n",
        "      \"orderInfo\": order_choice,\n",
        "      \"customerPhone\": generate_phone_number(),\n",
        "      \"employeeID\": random.choice(valid_employees), # Added a comma here\n",
        "      \"ordervalue\": order_value\n",
        "  })\n",
        "orderdf = pd.DataFrame(orderdata) # Moved this outside the loop to create the dataframe once\n",
        "print(orderdf)\n",
        "orderdf.to_csv(\"order_data.csv\", index=False) # Moved this outside the loop to save the dataframe once"
      ],
      "metadata": {
        "colab": {
          "base_uri": "https://localhost:8080/"
        },
        "id": "1yTfkWBcwPm8",
        "outputId": "e6853b20-ec0d-45db-957a-0f9fcbf66c97"
      },
      "execution_count": null,
      "outputs": [
        {
          "output_type": "stream",
          "name": "stdout",
          "text": [
            "     OrderID   AgentID       customerName            orderInfo customerPhone  \\\n",
            "0   Order001  Agent013  Kenneth Henderson  High Speed Internet  683-472-2413   \n",
            "1   Order002  Agent017      David Frazier                Phone  528-833-6990   \n",
            "2   Order003  Agent003       Lori Russell                   TV  941-136-9488   \n",
            "3   Order004  Agent012       Dylan Mclean  High Speed Internet  895-306-1139   \n",
            "4   Order005  Agent011     Brian Valencia  High Speed Internet  708-214-8290   \n",
            "..       ...       ...                ...                  ...           ...   \n",
            "95  Order096  Agent027       John Patrick                   TV  990-460-5261   \n",
            "96  Order097  Agent014       Carla Walker                   TV  152-418-9362   \n",
            "97  Order098  Agent004    Nicholas Miller                   TV  110-779-9509   \n",
            "98  Order099  Agent001       Joseph Brown  High Speed Internet  640-997-2464   \n",
            "99  Order100  Agent014     Randall Taylor                Phone  416-405-9216   \n",
            "\n",
            "   employeeID  ordervalue  \n",
            "0      Emp001          30  \n",
            "1      Emp002          20  \n",
            "2      Emp003          50  \n",
            "3      Emp001          30  \n",
            "4      Emp003          30  \n",
            "..        ...         ...  \n",
            "95     Emp002          50  \n",
            "96     Emp002          50  \n",
            "97     Emp001          50  \n",
            "98     Emp003          30  \n",
            "99     Emp002          20  \n",
            "\n",
            "[100 rows x 7 columns]\n"
          ]
        }
      ]
    },
    {
      "cell_type": "code",
      "source": [
        "# salary table\n",
        "from datetime import date\n",
        "amount= 1000\n",
        "salary=[]\n",
        "for emp_id in employeedf[\"EmployeeID\"]:\n",
        "    salary.append({\n",
        "        \"EmployeeID\": emp_id,\n",
        "        \"PayPeriod\": date.today().strftime(\"%Y-%m-%d\"),\n",
        "        \"Salary\": amount\n",
        "    })\n",
        "salarydf = pd.DataFrame(salary)\n",
        "print(salarydf)\n",
        "salarydf.to_csv(\"salary_data.csv\", index=False)\n"
      ],
      "metadata": {
        "colab": {
          "base_uri": "https://localhost:8080/"
        },
        "id": "pdyjelVOHqNA",
        "outputId": "4405b930-a55f-4cfd-ac34-406cc738ed88"
      },
      "execution_count": null,
      "outputs": [
        {
          "output_type": "stream",
          "name": "stdout",
          "text": [
            "  EmployeeID   PayPeriod  Salary\n",
            "0     Emp001  2025-03-20    1000\n",
            "1     Emp002  2025-03-20    1000\n",
            "2     Emp003  2025-03-20    1000\n",
            "3     Emp004  2025-03-20    1000\n"
          ]
        }
      ]
    },
    {
      "cell_type": "code",
      "source": [
        "#Agent Commission\n"
      ],
      "metadata": {
        "id": "8YoGCgAYLEAh"
      },
      "execution_count": null,
      "outputs": []
    },
    {
      "cell_type": "code",
      "source": [
        "from google.colab import files\n",
        "files.download(\"agent_data.csv\")\n",
        "files.download(\"employee_data.csv\")\n",
        "files.download(\"order_data.csv\")\n",
        "files.download(\"salary_data.csv\")"
      ],
      "metadata": {
        "colab": {
          "base_uri": "https://localhost:8080/",
          "height": 17
        },
        "id": "sM1HiW4xGk1N",
        "outputId": "25be2971-1839-4b7e-b53c-ee3e3780964a"
      },
      "execution_count": null,
      "outputs": [
        {
          "output_type": "display_data",
          "data": {
            "text/plain": [
              "<IPython.core.display.Javascript object>"
            ],
            "application/javascript": [
              "\n",
              "    async function download(id, filename, size) {\n",
              "      if (!google.colab.kernel.accessAllowed) {\n",
              "        return;\n",
              "      }\n",
              "      const div = document.createElement('div');\n",
              "      const label = document.createElement('label');\n",
              "      label.textContent = `Downloading \"${filename}\": `;\n",
              "      div.appendChild(label);\n",
              "      const progress = document.createElement('progress');\n",
              "      progress.max = size;\n",
              "      div.appendChild(progress);\n",
              "      document.body.appendChild(div);\n",
              "\n",
              "      const buffers = [];\n",
              "      let downloaded = 0;\n",
              "\n",
              "      const channel = await google.colab.kernel.comms.open(id);\n",
              "      // Send a message to notify the kernel that we're ready.\n",
              "      channel.send({})\n",
              "\n",
              "      for await (const message of channel.messages) {\n",
              "        // Send a message to notify the kernel that we're ready.\n",
              "        channel.send({})\n",
              "        if (message.buffers) {\n",
              "          for (const buffer of message.buffers) {\n",
              "            buffers.push(buffer);\n",
              "            downloaded += buffer.byteLength;\n",
              "            progress.value = downloaded;\n",
              "          }\n",
              "        }\n",
              "      }\n",
              "      const blob = new Blob(buffers, {type: 'application/binary'});\n",
              "      const a = document.createElement('a');\n",
              "      a.href = window.URL.createObjectURL(blob);\n",
              "      a.download = filename;\n",
              "      div.appendChild(a);\n",
              "      a.click();\n",
              "      div.remove();\n",
              "    }\n",
              "  "
            ]
          },
          "metadata": {}
        },
        {
          "output_type": "display_data",
          "data": {
            "text/plain": [
              "<IPython.core.display.Javascript object>"
            ],
            "application/javascript": [
              "download(\"download_4b900407-e4d9-474a-8f92-cd794c8e7521\", \"agent_data.csv\", 4463)"
            ]
          },
          "metadata": {}
        },
        {
          "output_type": "display_data",
          "data": {
            "text/plain": [
              "<IPython.core.display.Javascript object>"
            ],
            "application/javascript": [
              "\n",
              "    async function download(id, filename, size) {\n",
              "      if (!google.colab.kernel.accessAllowed) {\n",
              "        return;\n",
              "      }\n",
              "      const div = document.createElement('div');\n",
              "      const label = document.createElement('label');\n",
              "      label.textContent = `Downloading \"${filename}\": `;\n",
              "      div.appendChild(label);\n",
              "      const progress = document.createElement('progress');\n",
              "      progress.max = size;\n",
              "      div.appendChild(progress);\n",
              "      document.body.appendChild(div);\n",
              "\n",
              "      const buffers = [];\n",
              "      let downloaded = 0;\n",
              "\n",
              "      const channel = await google.colab.kernel.comms.open(id);\n",
              "      // Send a message to notify the kernel that we're ready.\n",
              "      channel.send({})\n",
              "\n",
              "      for await (const message of channel.messages) {\n",
              "        // Send a message to notify the kernel that we're ready.\n",
              "        channel.send({})\n",
              "        if (message.buffers) {\n",
              "          for (const buffer of message.buffers) {\n",
              "            buffers.push(buffer);\n",
              "            downloaded += buffer.byteLength;\n",
              "            progress.value = downloaded;\n",
              "          }\n",
              "        }\n",
              "      }\n",
              "      const blob = new Blob(buffers, {type: 'application/binary'});\n",
              "      const a = document.createElement('a');\n",
              "      a.href = window.URL.createObjectURL(blob);\n",
              "      a.download = filename;\n",
              "      div.appendChild(a);\n",
              "      a.click();\n",
              "      div.remove();\n",
              "    }\n",
              "  "
            ]
          },
          "metadata": {}
        },
        {
          "output_type": "display_data",
          "data": {
            "text/plain": [
              "<IPython.core.display.Javascript object>"
            ],
            "application/javascript": [
              "download(\"download_f3009495-8301-4e10-85b7-dca8335d782f\", \"employee_data.csv\", 248)"
            ]
          },
          "metadata": {}
        },
        {
          "output_type": "display_data",
          "data": {
            "text/plain": [
              "<IPython.core.display.Javascript object>"
            ],
            "application/javascript": [
              "\n",
              "    async function download(id, filename, size) {\n",
              "      if (!google.colab.kernel.accessAllowed) {\n",
              "        return;\n",
              "      }\n",
              "      const div = document.createElement('div');\n",
              "      const label = document.createElement('label');\n",
              "      label.textContent = `Downloading \"${filename}\": `;\n",
              "      div.appendChild(label);\n",
              "      const progress = document.createElement('progress');\n",
              "      progress.max = size;\n",
              "      div.appendChild(progress);\n",
              "      document.body.appendChild(div);\n",
              "\n",
              "      const buffers = [];\n",
              "      let downloaded = 0;\n",
              "\n",
              "      const channel = await google.colab.kernel.comms.open(id);\n",
              "      // Send a message to notify the kernel that we're ready.\n",
              "      channel.send({})\n",
              "\n",
              "      for await (const message of channel.messages) {\n",
              "        // Send a message to notify the kernel that we're ready.\n",
              "        channel.send({})\n",
              "        if (message.buffers) {\n",
              "          for (const buffer of message.buffers) {\n",
              "            buffers.push(buffer);\n",
              "            downloaded += buffer.byteLength;\n",
              "            progress.value = downloaded;\n",
              "          }\n",
              "        }\n",
              "      }\n",
              "      const blob = new Blob(buffers, {type: 'application/binary'});\n",
              "      const a = document.createElement('a');\n",
              "      a.href = window.URL.createObjectURL(blob);\n",
              "      a.download = filename;\n",
              "      div.appendChild(a);\n",
              "      a.click();\n",
              "      div.remove();\n",
              "    }\n",
              "  "
            ]
          },
          "metadata": {}
        },
        {
          "output_type": "display_data",
          "data": {
            "text/plain": [
              "<IPython.core.display.Javascript object>"
            ],
            "application/javascript": [
              "download(\"download_9c3e5ae3-a559-4b4f-a6eb-1a1418ac9195\", \"order_data.csv\", 6685)"
            ]
          },
          "metadata": {}
        },
        {
          "output_type": "display_data",
          "data": {
            "text/plain": [
              "<IPython.core.display.Javascript object>"
            ],
            "application/javascript": [
              "\n",
              "    async function download(id, filename, size) {\n",
              "      if (!google.colab.kernel.accessAllowed) {\n",
              "        return;\n",
              "      }\n",
              "      const div = document.createElement('div');\n",
              "      const label = document.createElement('label');\n",
              "      label.textContent = `Downloading \"${filename}\": `;\n",
              "      div.appendChild(label);\n",
              "      const progress = document.createElement('progress');\n",
              "      progress.max = size;\n",
              "      div.appendChild(progress);\n",
              "      document.body.appendChild(div);\n",
              "\n",
              "      const buffers = [];\n",
              "      let downloaded = 0;\n",
              "\n",
              "      const channel = await google.colab.kernel.comms.open(id);\n",
              "      // Send a message to notify the kernel that we're ready.\n",
              "      channel.send({})\n",
              "\n",
              "      for await (const message of channel.messages) {\n",
              "        // Send a message to notify the kernel that we're ready.\n",
              "        channel.send({})\n",
              "        if (message.buffers) {\n",
              "          for (const buffer of message.buffers) {\n",
              "            buffers.push(buffer);\n",
              "            downloaded += buffer.byteLength;\n",
              "            progress.value = downloaded;\n",
              "          }\n",
              "        }\n",
              "      }\n",
              "      const blob = new Blob(buffers, {type: 'application/binary'});\n",
              "      const a = document.createElement('a');\n",
              "      a.href = window.URL.createObjectURL(blob);\n",
              "      a.download = filename;\n",
              "      div.appendChild(a);\n",
              "      a.click();\n",
              "      div.remove();\n",
              "    }\n",
              "  "
            ]
          },
          "metadata": {}
        },
        {
          "output_type": "display_data",
          "data": {
            "text/plain": [
              "<IPython.core.display.Javascript object>"
            ],
            "application/javascript": [
              "download(\"download_533c7aac-4c03-4aca-b378-71ada336346d\", \"salary_data.csv\", 120)"
            ]
          },
          "metadata": {}
        }
      ]
    }
  ]
}